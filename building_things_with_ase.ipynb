{
 "cells": [
  {
   "cell_type": "markdown",
   "metadata": {},
   "source": [
    "Atomistic simulations are becoming more and more accessible thanks to the development of easy-to-use frameworks that deal with the setup, running and analysis stages.\n",
    "\n",
    "The Atomistic Simulation Environment ([ASE](https://wiki.fysik.dtu.dk/ase)) is one such framework that has interfaces to many different codes as well as a large suite of tools to aid in creation of the system and analysis of its properties.\n",
    "\n",
    "This notebook will contain an ongoing exploration of the ASE's features as I mock up various structures as a sort of playful way to learn how to use it. \n",
    "\n",
    "If you have any suggestions for a system that would be interesting to create, or how to improve any of the systems you see here (they are very rough), please get in touch!"
   ]
  },
  {
   "cell_type": "code",
   "execution_count": 1,
   "metadata": {
    "collapsed": true
   },
   "outputs": [],
   "source": [
    "# Generally useful imports\n",
    "from ase.visualize import view\n",
    "import numpy as np"
   ]
  },
  {
   "cell_type": "markdown",
   "metadata": {},
   "source": [
    "## Nanotubes"
   ]
  },
  {
   "cell_type": "code",
   "execution_count": 2,
   "metadata": {
    "collapsed": true
   },
   "outputs": [],
   "source": [
    "from ase.build import nanotube\n",
    "from ase.constraints import FixAtoms"
   ]
  },
  {
   "cell_type": "markdown",
   "metadata": {},
   "source": [
    "### Basic carbon nanotube"
   ]
  },
  {
   "cell_type": "code",
   "execution_count": 59,
   "metadata": {
    "collapsed": false
   },
   "outputs": [],
   "source": [
    "cnt = nanotube(3,3, length=8)\n",
    "cnt.write(\"images/CNT_example.pov\",\n",
    "         rotation=\"4.75x,-5.4y,88.1z\",\n",
    "         run_povray=True)\n",
    "# view(cnt)"
   ]
  },
  {
   "cell_type": "markdown",
   "metadata": {},
   "source": [
    "![Example carbon nanotube](images/CNT_example.png)"
   ]
  },
  {
   "cell_type": "markdown",
   "metadata": {},
   "source": [
    "### Multi-walled boron nitride nanotube"
   ]
  },
  {
   "cell_type": "markdown",
   "metadata": {},
   "source": [
    "Let's say you wanted to put a boron nitride (BN) nanotube inside a bigger nanotube (because science).\n",
    "There's now a degree of freedom in the relative rotation of the outer and inner nanotubes along the tube axis.\n",
    "\n",
    "Something like this:\n",
    "![BN nanotube schematic](images/rot_nt_diagram.png)"
   ]
  },
  {
   "cell_type": "markdown",
   "metadata": {},
   "source": [
    "We can explore this degree of freedom manually by rotating the inner tube, or use an ASE geometry optimiser together with some clever constraint. The following loop sets up the former:"
   ]
  },
  {
   "cell_type": "code",
   "execution_count": 46,
   "metadata": {
    "collapsed": false
   },
   "outputs": [],
   "source": [
    "writeimages = False\n",
    "tubes = []\n",
    "for thetadeg in range(0, 360, 2):\n",
    "    theta = thetadeg * np.pi / 180.0\n",
    "    cnt1 = nanotube(3,3,length=5, bond= 1.48, symbol='B')\n",
    "    # rotate inner cnt by theta about z, centered in the center of the unit cell\n",
    "    cnt1.rotate('z',theta, center='COU')\n",
    "    cnt2 = nanotube(6,6,length=5, bond= 1.48, symbol='N')\n",
    "    # now replace every second atom with B\n",
    "    for i, atom in enumerate(cnt1):\n",
    "        if i%2==0:\n",
    "            cnt1[i].symbol = 'N'\n",
    "    for i, atom in enumerate(cnt2):\n",
    "        if i%2==0:\n",
    "            cnt2[i].symbol = 'B'\n",
    "\n",
    "    # fix all outer nt atoms in place\n",
    "    mask = [True for atom in cnt2]\n",
    "    cnt2.set_constraint(FixAtoms(mask=mask))\n",
    "    # let inner nt relax\n",
    "    mask1 = [False for atom in cnt1]\n",
    "    cnt1.set_constraint(FixAtoms(mask=mask1))\n",
    "\n",
    "    # now set them to the same cell and centre\n",
    "    middleofcnt1 = cnt1.get_cell_lengths_and_angles()[0:3] /2\n",
    "    cnt1.set_cell(cnt2.get_cell())\n",
    "    cnt1.center(about=middleofcnt1)\n",
    "\n",
    "    atoms = cnt2.copy()\n",
    "    atoms.extend(cnt1)\n",
    "\n",
    "    # add vacuum of 10A\n",
    "    atoms.center(vacuum=10, axis=(0,1))\n",
    "    tubes.append(atoms)\n",
    "    if writeimages:\n",
    "    #     atoms.write(\"images/rot_nt_{0:03d}.png\".format(thetadeg), rotation=\"1.72x,-5.72y\")\n",
    "        atoms.write(\"images/rot_nt_{0:03d}.pov\".format(thetadeg),\n",
    "                    rotation=\"1.72x,-5.72y\", # get this angle from ase-gui \n",
    "                    run_povray=True)\n"
   ]
  },
  {
   "cell_type": "markdown",
   "metadata": {},
   "source": [
    "We can use the ase-gui to view the resulting tubes."
   ]
  },
  {
   "cell_type": "code",
   "execution_count": 38,
   "metadata": {
    "collapsed": true
   },
   "outputs": [],
   "source": [
    "view(tubes)"
   ]
  },
  {
   "cell_type": "markdown",
   "metadata": {},
   "source": [
    "If we write out the images to png, we can animate the files using [imagemagik](https://www.imagemagick.org/script/index.php)"
   ]
  },
  {
   "cell_type": "code",
   "execution_count": 47,
   "metadata": {
    "collapsed": true
   },
   "outputs": [],
   "source": [
    "!convert -loop 0 -delay 5 images/rot_nt_???.png images/nt_BN_rot.gif"
   ]
  },
  {
   "cell_type": "markdown",
   "metadata": {},
   "source": [
    "Here's the result (fancy eh?):\n",
    "![Animated loop of BN nanotubes rotating](images/nt_BN_rot.gif)\n",
    "\n",
    "There's a sort optical illusion that the outer tube is rotating also; or have I just been staring at code for too long?"
   ]
  },
  {
   "cell_type": "markdown",
   "metadata": {},
   "source": [
    "`TODO` add clever constraint and how to use the ASE optimiser "
   ]
  },
  {
   "cell_type": "markdown",
   "metadata": {},
   "source": [
    "### Bundle of nanotubes"
   ]
  },
  {
   "cell_type": "markdown",
   "metadata": {},
   "source": [
    "Let's say you wanted to form a bundle of nanotubes (they must form bundles... right?). \n",
    "\n",
    "The way the bundle bundles up is similar to stacking canonballs, but in 2D. I mean, looking down the tube axis you'd see something like one of these options:\n",
    "![lattice of nts](images/nt_bundle_schematic.png)\n",
    "\n",
    "Clearly the one on the right is a better way to bundle the tubes, but how do we define the edges of the bundle? Since this is a hexagonal bundling pattern, it makes sense to have a hexagonal bundle. Something like this: \n",
    "\n",
    "![Hexagonal lattice](images/hex_bundle.png)"
   ]
  },
  {
   "cell_type": "markdown",
   "metadata": {},
   "source": [
    "I'm sure there's a clever way of getting that nice bundle of nanotubes, but for now let's just hack something together:"
   ]
  },
  {
   "cell_type": "code",
   "execution_count": 18,
   "metadata": {
    "collapsed": false
   },
   "outputs": [],
   "source": [
    "# These parameters need to be adjusted to get right!\n",
    "#cnt diameter\n",
    "d = 4.25/2\n",
    "# separation - assume bond length-ish\n",
    "s = 1.45*1.1\n",
    "s2 = 1.45*2\n",
    "\n",
    "cnt1 = nanotube(3,3,length=4, vacuum=30)\n",
    "bundle = cnt1.copy()\n",
    "# Repeat tubes along x\n",
    "for i in range(1,7):\n",
    "    # Repeat tubes along y\n",
    "    for j in range(0,4):\n",
    "        # Hack to cut out a hexagon - dumb but works\n",
    "        if j >1 and i < 2:\n",
    "            pass\n",
    "        elif j>2 and i < 3:\n",
    "            pass\n",
    "        else:\n",
    "            # Treat the first row specially to avoid duplicates\n",
    "            if j == 0:\n",
    "                cnt2 = cnt1.copy()\n",
    "                cnt2.rotate('z',np.pi/6., center='COU')\n",
    "                cnt2.translate((i*(d+s2), 0, 0))\n",
    "                bundle.extend(cnt2)\n",
    "            else:\n",
    "                cnt3 = cnt1.copy()\n",
    "                cnt4 = cnt1.copy()\n",
    "\n",
    "                cnt3.rotate('z',np.pi/6., center='COU')\n",
    "                cnt3.translate((i*(d+s2)-j*((d+s2)/2),j*(d+s),0))\n",
    "                bundle.extend(cnt3)\n",
    "\n",
    "                cnt4.rotate('z',np.pi/6., center='COU')\n",
    "                cnt4.translate((i*(d+s2)-j*((d+s2)/2),-j*(d+s),0))\n",
    "                bundle.extend(cnt4)\n",
    "    \n",
    "    \n",
    "bundle.center()\n",
    "view(bundle)\n",
    "bundle = bundle*(1,1,10)"
   ]
  },
  {
   "cell_type": "markdown",
   "metadata": {},
   "source": [
    "Saving an image of the bundle:"
   ]
  },
  {
   "cell_type": "code",
   "execution_count": 20,
   "metadata": {
    "collapsed": false
   },
   "outputs": [],
   "source": [
    "bundle.write(\"images/cnt_hex_bundle_test.pov\",\n",
    "             rotation=\"1.72x,-2.7y\", # get this angle from ase-gui \n",
    "             show_unit_cell=2,\n",
    "             run_povray=True)\n",
    "bundle.write(\"images/cnt_hex_bundle_2.png\",\n",
    "             rotation=\"18x,90z\", # get this angle from ase-gui \n",
    "             show_unit_cell=2)\n",
    "#              run_povray=True)"
   ]
  },
  {
   "cell_type": "markdown",
   "metadata": {},
   "source": [
    "And we end up with something like what we wanted:\n",
    "\n",
    "![Bundle of CNT's](images/cnt_hex_bundle_test.png)\n",
    "![Bundle of CNT's 2](images/cnt_hex_bundle_2.png?que)\n",
    "\n",
    "`NB` the tube diameter, relative rotations and separation parameters all need to be adjusted to really give a sensible initial state."
   ]
  },
  {
   "cell_type": "markdown",
   "metadata": {},
   "source": [
    "## Nanoribbons"
   ]
  },
  {
   "cell_type": "markdown",
   "metadata": {},
   "source": [
    "Nanoribbons (NR) are what you'd get if you slice ribbons out of single-atom layer of something (e.g. graphene). \n",
    "ASE has a generator to help make NRs.\n",
    "\n",
    "The two basic types are armchair and zigzag - like with nanotubes."
   ]
  },
  {
   "cell_type": "code",
   "execution_count": 3,
   "metadata": {
    "collapsed": true
   },
   "outputs": [],
   "source": [
    "from ase.build import graphene_nanoribbon"
   ]
  },
  {
   "cell_type": "code",
   "execution_count": 4,
   "metadata": {
    "collapsed": false
   },
   "outputs": [],
   "source": [
    "# These are mostly the default parameters\n",
    "gnr_ac = graphene_nanoribbon(5, 5,\n",
    "                        type='armchair',\n",
    "                        saturated=False,\n",
    "                        C_H=1.09,\n",
    "                        C_C=1.42,\n",
    "                        vacuum=5,\n",
    "                        magnetic=None, initial_mag=1.12,\n",
    "                        sheet=False,\n",
    "                        main_element='C', saturate_element='H')\n",
    "# also default settings, just saving space:\n",
    "gnr_zz = graphene_nanoribbon(5, 5,\n",
    "                             type='zigzag',\n",
    "                             vacuum=5)\n",
    "#The ribbons extend in z - let's emphasise that here:\n",
    "gnr_ac = gnr_ac*(1,1,2)\n",
    "#zz has a smaller repeating unit\n",
    "gnr_zz = gnr_zz*(1,1,4)\n",
    "\n",
    "# view(gnr_ac)\n",
    "\n",
    "gnr_ac.write(\"images/graphene_nr_armchair.pov\",\n",
    "             rotation=\"90x,90z\",\n",
    "             run_povray=True,\n",
    "             show_unit_cell=2)\n",
    "gnr_zz.write(\"images/graphene_nr_zigzag.pov\",\n",
    "             rotation=\"90x,90z\",\n",
    "             run_povray=True,\n",
    "             show_unit_cell=2)"
   ]
  },
  {
   "cell_type": "markdown",
   "metadata": {},
   "source": [
    "We get the armchair:\n",
    "![Armchair graphene nanoribbon](images/graphene_nr_armchair.png)\n",
    "and the zigzag:\n",
    "![Zigzag graphene nanoribbon](images/graphene_nr_zigzag.png?3)"
   ]
  },
  {
   "cell_type": "markdown",
   "metadata": {},
   "source": [
    "That's cool, but what else can we do with ribbons? In the Olympics ribbons are waved around a lot - let's see if we can make our ribbons wave.\n",
    "\n",
    "The ribbon extends in the z direction, and has some width in the x direction. That leaves us the y direction to wave. Now because of the periodic boundary conditions, only certain wavelengths are allowed - if you had for example 1.8 wavelengths in the box, the beginning and end points would join up!\n",
    "\n",
    "For now let's just wave the ribbon in the y direction, ignoring the fact that we're stretching the bonds a little."
   ]
  },
  {
   "cell_type": "code",
   "execution_count": 13,
   "metadata": {
    "collapsed": false
   },
   "outputs": [],
   "source": [
    "# box limit in z:\n",
    "maxz = gnr_zz.get_cell_lengths_and_angles()[2]\n",
    "# Amplitude of wave:\n",
    "a = 2\n",
    "# mode\n",
    "n = 2\n",
    "atoms = gnr_zz.copy()\n",
    "for atom in atoms:\n",
    "    atom.position[1] =  a * np.sin(2*n*np.pi*atom.position[2]/maxz) +  atom.position[1]\n",
    "# view(atoms)\n",
    "atoms.write(\"images/nr_zigzag_wave-1.pov\",\n",
    "             rotation=\"90x,90z\",\n",
    "             run_povray=True,\n",
    "             show_unit_cell=2)\n",
    "atoms.write(\"images/nr_zigzag_wave-2.pov\",\n",
    "             rotation=\"90y\",\n",
    "             run_povray=True,\n",
    "             show_unit_cell=2)\n",
    "atoms.write(\"images/nr_zigzag_wave-3.pov\",\n",
    "             rotation=\"67x,-72y,-62z\",\n",
    "             run_povray=True,\n",
    "             show_unit_cell=2)"
   ]
  },
  {
   "cell_type": "markdown",
   "metadata": {},
   "source": [
    "This then is our wavy nanoribbon, seen from different angles:\n",
    "\n",
    "![Wavy nanoribbon 1](images/nr_zigzag_wave-1.png?2)\n",
    "![Wavy nanoribbon 2](images/nr_zigzag_wave-2.png?2)\n",
    "![Wavy nanoribbon 3](images/nr_zigzag_wave-3.png?2)"
   ]
  },
  {
   "cell_type": "code",
   "execution_count": null,
   "metadata": {
    "collapsed": true
   },
   "outputs": [],
   "source": []
  }
 ],
 "metadata": {
  "hide_input": false,
  "kernelspec": {
   "display_name": "Python 2",
   "language": "python",
   "name": "python2"
  },
  "language_info": {
   "codemirror_mode": {
    "name": "ipython",
    "version": 2
   },
   "file_extension": ".py",
   "mimetype": "text/x-python",
   "name": "python",
   "nbconvert_exporter": "python",
   "pygments_lexer": "ipython2",
   "version": "2.7.12"
  },
  "nav_menu": {},
  "toc": {
   "navigate_menu": true,
   "number_sections": true,
   "sideBar": true,
   "threshold": 6,
   "toc_cell": false,
   "toc_section_display": "block",
   "toc_window_display": false
  }
 },
 "nbformat": 4,
 "nbformat_minor": 0
}
